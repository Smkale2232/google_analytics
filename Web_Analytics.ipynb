{
  "nbformat": 4,
  "nbformat_minor": 0,
  "metadata": {
    "colab": {
      "provenance": [],
      "authorship_tag": "ABX9TyPT0lMldy5MzrcvZAME4Qel",
      "include_colab_link": true
    },
    "kernelspec": {
      "name": "python3",
      "display_name": "Python 3"
    },
    "language_info": {
      "name": "python"
    }
  },
  "cells": [
    {
      "cell_type": "markdown",
      "metadata": {
        "id": "view-in-github",
        "colab_type": "text"
      },
      "source": [
        "<a href=\"https://colab.research.google.com/github/Smkale2232/google_analytics/blob/main/Web_Analytics.ipynb\" target=\"_parent\"><img src=\"https://colab.research.google.com/assets/colab-badge.svg\" alt=\"Open In Colab\"/></a>"
      ]
    },
    {
      "cell_type": "code",
      "source": [
        "# Install required libraries\n",
        "!pip install pandas sqlalchemy\n",
        "\n",
        "import pandas as pd\n",
        "import sqlite3\n",
        "from sqlalchemy import create_engine"
      ],
      "metadata": {
        "colab": {
          "base_uri": "https://localhost:8080/"
        },
        "id": "cn6-kuIFGsDn",
        "outputId": "4c828f69-9077-4da7-f563-8d671518cb09"
      },
      "execution_count": 9,
      "outputs": [
        {
          "output_type": "stream",
          "name": "stdout",
          "text": [
            "Requirement already satisfied: pandas in /usr/local/lib/python3.10/dist-packages (2.2.2)\n",
            "Requirement already satisfied: sqlalchemy in /usr/local/lib/python3.10/dist-packages (2.0.36)\n",
            "Requirement already satisfied: numpy>=1.22.4 in /usr/local/lib/python3.10/dist-packages (from pandas) (1.26.4)\n",
            "Requirement already satisfied: python-dateutil>=2.8.2 in /usr/local/lib/python3.10/dist-packages (from pandas) (2.8.2)\n",
            "Requirement already satisfied: pytz>=2020.1 in /usr/local/lib/python3.10/dist-packages (from pandas) (2024.2)\n",
            "Requirement already satisfied: tzdata>=2022.7 in /usr/local/lib/python3.10/dist-packages (from pandas) (2024.2)\n",
            "Requirement already satisfied: typing-extensions>=4.6.0 in /usr/local/lib/python3.10/dist-packages (from sqlalchemy) (4.12.2)\n",
            "Requirement already satisfied: greenlet!=0.4.17 in /usr/local/lib/python3.10/dist-packages (from sqlalchemy) (3.1.1)\n",
            "Requirement already satisfied: six>=1.5 in /usr/local/lib/python3.10/dist-packages (from python-dateutil>=2.8.2->pandas) (1.17.0)\n"
          ]
        }
      ]
    },
    {
      "cell_type": "code",
      "source": [
        "# Load the dataset\n",
        "file_path = \"Web Analytic_Dataset.csv\"\n",
        "data = pd.read_csv(file_path)\n",
        "\n",
        "# Display the first few rows\n",
        "print(data.head())\n",
        "\n",
        "# Explore dataset structure\n",
        "print(data.info())\n",
        "print(data.describe())"
      ],
      "metadata": {
        "colab": {
          "base_uri": "https://localhost:8080/"
        },
        "id": "gHOf4riBHxDJ",
        "outputId": "2f625617-3709-4648-96bc-61ef70eb532c"
      },
      "execution_count": 11,
      "outputs": [
        {
          "output_type": "stream",
          "name": "stdout",
          "text": [
            "  Source / Medium  Year  Month of the year    Users New Users Sessions  \\\n",
            "0               A  2019                 11  126,870   104,020  194,667   \n",
            "1               A  2020                  5  120,625    98,574  194,114   \n",
            "2               A  2019                 10  123,361   104,308  181,175   \n",
            "3               A  2019                  9  106,551    88,428  170,329   \n",
            "4               A  2020                  6  102,123    82,461  163,446   \n",
            "\n",
            "  Bounce Rate Pageviews Avg. Session Duration Conversion Rate (%)  \\\n",
            "0      71.59%   455,159              00:01:11                 0.2   \n",
            "1      64.56%   559,509              00:01:32                0.69   \n",
            "2      41.91%   368,907              00:01:05                0.26   \n",
            "3      75.92%   368,803              00:01:01                0.18   \n",
            "4      67.10%   425,410              00:01:20                 0.7   \n",
            "\n",
            "  Transactions  Revenue Quantity Sold  \n",
            "0          394   83,244           482  \n",
            "1        1,347  203,552         2,402  \n",
            "2          477   94,282           599  \n",
            "3          311   54,971           415  \n",
            "4        1,138  167,113         1,987  \n",
            "<class 'pandas.core.frame.DataFrame'>\n",
            "RangeIndex: 250 entries, 0 to 249\n",
            "Data columns (total 13 columns):\n",
            " #   Column                 Non-Null Count  Dtype \n",
            "---  ------                 --------------  ----- \n",
            " 0   Source / Medium        250 non-null    object\n",
            " 1   Year                   250 non-null    int64 \n",
            " 2   Month of the year      250 non-null    int64 \n",
            " 3   Users                  250 non-null    object\n",
            " 4   New Users              250 non-null    object\n",
            " 5   Sessions               250 non-null    object\n",
            " 6   Bounce Rate            250 non-null    object\n",
            " 7   Pageviews              250 non-null    object\n",
            " 8   Avg. Session Duration  250 non-null    object\n",
            " 9   Conversion Rate (%)    250 non-null    object\n",
            " 10  Transactions           250 non-null    object\n",
            " 11  Revenue                250 non-null    object\n",
            " 12  Quantity Sold          250 non-null    object\n",
            "dtypes: int64(2), object(11)\n",
            "memory usage: 25.5+ KB\n",
            "None\n",
            "              Year  Month of the year\n",
            "count   250.000000         250.000000\n",
            "mean   2019.644000           6.540000\n",
            "std       0.479776           3.507937\n",
            "min    2019.000000           1.000000\n",
            "25%    2019.000000           4.000000\n",
            "50%    2020.000000           6.000000\n",
            "75%    2020.000000          10.000000\n",
            "max    2020.000000          12.000000\n"
          ]
        }
      ]
    },
    {
      "cell_type": "code",
      "source": [
        "from sqlalchemy import text\n",
        "\n",
        "# Confirm table creation\n",
        "query = text(\"SELECT name FROM sqlite_master WHERE type='table';\")\n",
        "tables = conn.execute(query).fetchall()\n",
        "print(tables)"
      ],
      "metadata": {
        "colab": {
          "base_uri": "https://localhost:8080/"
        },
        "id": "FNlvRXCIH-Yu",
        "outputId": "b7860710-d15a-455a-ff6f-2b14f0b68aa0"
      },
      "execution_count": 13,
      "outputs": [
        {
          "output_type": "stream",
          "name": "stdout",
          "text": [
            "[('web_analytics',), ('web_data',)]\n"
          ]
        }
      ]
    },
    {
      "cell_type": "code",
      "source": [
        "# Check if data was inserted correctly\n",
        "query = \"SELECT * FROM web_data LIMIT 5;\"\n",
        "result = pd.read_sql(query, conn)\n",
        "print(result)"
      ],
      "metadata": {
        "colab": {
          "base_uri": "https://localhost:8080/"
        },
        "id": "sGSP6FTFIaLZ",
        "outputId": "acb8ced8-dd5b-4fdc-c2bd-8553d0498f1b"
      },
      "execution_count": 15,
      "outputs": [
        {
          "output_type": "stream",
          "name": "stdout",
          "text": [
            "  Source / Medium  Year  Month of the year    Users New Users Sessions  \\\n",
            "0               A  2019                 11  126,870   104,020  194,667   \n",
            "1               A  2020                  5  120,625    98,574  194,114   \n",
            "2               A  2019                 10  123,361   104,308  181,175   \n",
            "3               A  2019                  9  106,551    88,428  170,329   \n",
            "4               A  2020                  6  102,123    82,461  163,446   \n",
            "\n",
            "  Bounce Rate Pageviews Avg. Session Duration Conversion Rate (%)  \\\n",
            "0      71.59%   455,159              00:01:11                 0.2   \n",
            "1      64.56%   559,509              00:01:32                0.69   \n",
            "2      41.91%   368,907              00:01:05                0.26   \n",
            "3      75.92%   368,803              00:01:01                0.18   \n",
            "4      67.10%   425,410              00:01:20                 0.7   \n",
            "\n",
            "  Transactions  Revenue Quantity Sold  \n",
            "0          394   83,244           482  \n",
            "1        1,347  203,552         2,402  \n",
            "2          477   94,282           599  \n",
            "3          311   54,971           415  \n",
            "4        1,138  167,113         1,987  \n"
          ]
        }
      ]
    },
    {
      "cell_type": "code",
      "source": [
        "# Check column names\n",
        "query = \"PRAGMA table_info(web_data);\"\n",
        "columns = pd.read_sql(query, conn)\n",
        "print(columns)\n"
      ],
      "metadata": {
        "colab": {
          "base_uri": "https://localhost:8080/"
        },
        "id": "thwiDAr9Ik3a",
        "outputId": "d5ac4851-d73f-4cfa-db26-ca357e8d0f9c"
      },
      "execution_count": 17,
      "outputs": [
        {
          "output_type": "stream",
          "name": "stdout",
          "text": [
            "    cid                   name    type  notnull dflt_value  pk\n",
            "0     0        Source / Medium    TEXT        0       None   0\n",
            "1     1                   Year  BIGINT        0       None   0\n",
            "2     2      Month of the year  BIGINT        0       None   0\n",
            "3     3                  Users    TEXT        0       None   0\n",
            "4     4              New Users    TEXT        0       None   0\n",
            "5     5               Sessions    TEXT        0       None   0\n",
            "6     6            Bounce Rate    TEXT        0       None   0\n",
            "7     7              Pageviews    TEXT        0       None   0\n",
            "8     8  Avg. Session Duration    TEXT        0       None   0\n",
            "9     9    Conversion Rate (%)    TEXT        0       None   0\n",
            "10   10           Transactions    TEXT        0       None   0\n",
            "11   11                Revenue    TEXT        0       None   0\n",
            "12   12          Quantity Sold    TEXT        0       None   0\n"
          ]
        }
      ]
    },
    {
      "cell_type": "code",
      "source": [
        "# Check original dataset columns\n",
        "print(data.columns)"
      ],
      "metadata": {
        "colab": {
          "base_uri": "https://localhost:8080/"
        },
        "id": "5NOk4YPbIzKa",
        "outputId": "2d3360cf-9378-4bd0-fb7b-970ab4564c5e"
      },
      "execution_count": 18,
      "outputs": [
        {
          "output_type": "stream",
          "name": "stdout",
          "text": [
            "Index(['Source / Medium', 'Year', 'Month of the year', 'Users', 'New Users',\n",
            "       'Sessions', 'Bounce Rate', 'Pageviews', 'Avg. Session Duration',\n",
            "       'Conversion Rate (%)', 'Transactions', 'Revenue', 'Quantity Sold'],\n",
            "      dtype='object')\n"
          ]
        }
      ]
    },
    {
      "cell_type": "code",
      "source": [],
      "metadata": {
        "id": "rmQnmgeaJn_7"
      },
      "execution_count": null,
      "outputs": []
    }
  ]
}